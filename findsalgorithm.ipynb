{
  "nbformat": 4,
  "nbformat_minor": 0,
  "metadata": {
    "colab": {
      "provenance": [],
      "authorship_tag": "ABX9TyOkDaksCbkSaHdXfupPb/3i",
      "include_colab_link": true
    },
    "kernelspec": {
      "name": "python3",
      "display_name": "Python 3"
    },
    "language_info": {
      "name": "python"
    }
  },
  "cells": [
    {
      "cell_type": "markdown",
      "metadata": {
        "id": "view-in-github",
        "colab_type": "text"
      },
      "source": [
        "<a href=\"https://colab.research.google.com/github/Srinidhi231/activity/blob/main/findsalgorithm.ipynb\" target=\"_parent\"><img src=\"https://colab.research.google.com/assets/colab-badge.svg\" alt=\"Open In Colab\"/></a>"
      ]
    },
    {
      "cell_type": "code",
      "execution_count": 1,
      "metadata": {
        "colab": {
          "base_uri": "https://localhost:8080/"
        },
        "id": "GSZCtvxSThR0",
        "outputId": "fb1d0d36-092e-4a94-9d35-68eb0869e93b"
      },
      "outputs": [
        {
          "output_type": "stream",
          "name": "stdout",
          "text": [
            "Training data:\n",
            "    Outlook Temperature Humidity  Windy PlayTennis\n",
            "0     Sunny         Hot     High  False         No\n",
            "1     Sunny         Hot     High   True         No\n",
            "2  Overcast         Hot     High  False        Yes\n",
            "3      Rain        Cold     High  False        Yes\n",
            "4      Rain        Cold     High   True         No\n",
            "5  Overcast         Hot     High   True        Yes\n",
            "6     Sunny         Hot     High  False         No\n",
            "\n",
            "The final hypothesis is: ['Overcast', 'Hot', 'High', '?']\n"
          ]
        }
      ],
      "source": [
        "import pandas as pd\n",
        "\n",
        "\n",
        "def find_s_algorithm(file_path):\n",
        "    data = pd.read_csv(file_path)\n",
        "\n",
        "    print(\"Training data:\")\n",
        "    print(data)\n",
        "\n",
        "    attributes = data.columns[:-1]\n",
        "    class_label = data.columns[-1]\n",
        "\n",
        "    hypothesis = ['?' for _ in attributes]\n",
        "\n",
        "    for index, row in data.iterrows():\n",
        "        if row[class_label] == 'Yes':\n",
        "            for i, value in enumerate(row[attributes]):\n",
        "                if hypothesis[i] == '?' or hypothesis[i] == value:\n",
        "                    hypothesis[i] = value\n",
        "                else:\n",
        "                    hypothesis[i] = '?'\n",
        "\n",
        "    return hypothesis\n",
        "\n",
        "\n",
        "file_path = 'training_data.csv'\n",
        "hypothesis = find_s_algorithm(file_path)\n",
        "print(\"\\nThe final hypothesis is:\", hypothesis)"
      ]
    }
  ]
}